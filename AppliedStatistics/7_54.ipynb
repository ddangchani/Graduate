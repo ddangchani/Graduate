{
 "cells": [
  {
   "attachments": {},
   "cell_type": "markdown",
   "metadata": {},
   "source": [
    "## Solution code for 7.54 with Python"
   ]
  },
  {
   "cell_type": "code",
   "execution_count": 2,
   "metadata": {},
   "outputs": [],
   "source": [
    "import pandas as pd\n",
    "import numpy as np\n",
    "\n",
    "# Read in the data\n",
    "df = pd.read_csv('data.csv')\n",
    "\n",
    "X, y = df[['X1', 'X2', 'X3']].values, df[['y1']].values # separate the data into X and y\n",
    "\n",
    "# add a constant column to X for the intercept term\n",
    "X = np.column_stack((np.ones(len(X)), X))"
   ]
  },
  {
   "attachments": {},
   "cell_type": "markdown",
   "metadata": {},
   "source": [
    "#### (a) Find $\\hat\\beta$ and $s^2$\n",
    "- $\\beta = (332.111\\;-1.546\\;-1.425\\;-2.237)^T$\n",
    "- $s^2 = 5.345$"
   ]
  },
  {
   "cell_type": "code",
   "execution_count": 3,
   "metadata": {},
   "outputs": [
    {
     "name": "stdout",
     "output_type": "stream",
     "text": [
      "[[332.111]\n",
      " [ -1.546]\n",
      " [ -1.425]\n",
      " [ -2.237]]\n",
      "5.345\n"
     ]
    }
   ],
   "source": [
    "# calculate the OLS estimator for beta\n",
    "beta = np.linalg.inv(X.T @ X) @ X.T @ y\n",
    "\n",
    "# Mean squared error of y1\n",
    "y_hat = X @ beta\n",
    "y_mse = np.sum((y_hat - y)**2) / (len(y) - 4)\n",
    "\n",
    "# print the estimated coefficients (beta values)\n",
    "print(beta.round(3))\n",
    "print(y_mse.round(3))"
   ]
  },
  {
   "attachments": {},
   "cell_type": "markdown",
   "metadata": {},
   "source": [
    "#### (b) Find an estimate of $cov(\\hat\\beta)$\n",
    "Used that\n",
    "$$\n",
    "\\hat cov(\\hat\\beta) = \\hat\\sigma^2(\\mathbf{X^TX})^{-1} = s^2(\\mathbf{X^TX})^{-1}\n",
    "$$"
   ]
  },
  {
   "cell_type": "code",
   "execution_count": 4,
   "metadata": {},
   "outputs": [
    {
     "name": "stdout",
     "output_type": "stream",
     "text": [
      "[[ 3.49426e+02 -1.81100e+00 -1.67000e+00 -1.09000e-01]\n",
      " [-1.81100e+00  1.00000e-02  7.00000e-03 -2.00000e-03]\n",
      " [-1.67000e+00  7.00000e-03  2.20000e-02 -9.00000e-03]\n",
      " [-1.09000e-01 -2.00000e-03 -9.00000e-03  1.15000e-01]]\n"
     ]
    }
   ],
   "source": [
    "# Calculate the inverse of X^T*X\n",
    "XtX_inv = np.linalg.inv(X.T @ X)\n",
    "\n",
    "# Calculate the estimate of covariance matrix of beta\n",
    "cov_beta = y_mse * XtX_inv\n",
    "\n",
    "print(cov_beta.round(3))"
   ]
  },
  {
   "attachments": {},
   "cell_type": "markdown",
   "metadata": {},
   "source": [
    "#### (c) Find $R^2$ and $R^2_a$\n",
    "Used that for $p$ covariates model(except constant term)\n",
    "$$\n",
    "R^2_a = 1-(1-R^2)\\frac{n-1}{n-p-1}\n",
    "$$\n",
    "\n",
    "$$\n",
    "R^2 = 0.955 \\\\ R^2_a =0.946\n",
    "$$"
   ]
  },
  {
   "cell_type": "code",
   "execution_count": 5,
   "metadata": {},
   "outputs": [
    {
     "name": "stdout",
     "output_type": "stream",
     "text": [
      "0.955\n",
      "0.946\n"
     ]
    }
   ],
   "source": [
    "# Find the R^2 value\n",
    "y_bar = np.mean(y)\n",
    "SST = np.sum((y - y_bar)**2)\n",
    "SSR = np.sum((y_hat - y_bar)**2)\n",
    "R2 = SSR / SST\n",
    "print(R2.round(3))\n",
    "\n",
    "# Find the adjusted R^2 value\n",
    "n = len(y)\n",
    "p = 3\n",
    "adj_R2 = 1 - (1 - R2) * (n - 1) / (n - p - 1)\n",
    "print(adj_R2.round(3))"
   ]
  },
  {
   "attachments": {},
   "cell_type": "markdown",
   "metadata": {},
   "source": [
    "#### (d) In order to find the maximum yield for $y_1$, a second-order model is of interest. Find $\\hat\\beta$ and $s^2$ for the model"
   ]
  },
  {
   "cell_type": "code",
   "execution_count": 6,
   "metadata": {},
   "outputs": [
    {
     "name": "stdout",
     "output_type": "stream",
     "text": [
      "[[ 9.64929e+02]\n",
      " [-7.44200e+00]\n",
      " [-1.15080e+01]\n",
      " [-2.14000e+00]\n",
      " [ 1.20000e-02]\n",
      " [ 3.30000e-02]\n",
      " [-2.94000e-01]\n",
      " [ 5.40000e-02]\n",
      " [ 3.80000e-02]\n",
      " [-1.02000e-01]]\n",
      "5.134\n"
     ]
    }
   ],
   "source": [
    "# Second order polynomial model (X1^2, X2^2, X3^2, X1*X2, X1*X3, X2*X3)\n",
    "X2 = np.column_stack((X, X[:, 1]**2, X[:, 2]**2, X[:, 3]**2,\n",
    "                      X[:, 1]*X[:, 2], X[:, 1]*X[:, 3], X[:, 2]*X[:, 3]))\n",
    "\n",
    "# Calculate the OLS estimator for beta\n",
    "beta2 = np.linalg.inv(X2.T @ X2) @ X2.T @ y\n",
    "\n",
    "# Mean squared error of y1\n",
    "y_hat2 = X2 @ beta2\n",
    "y_mse2 = np.sum((y_hat2 - y)**2) / (len(y) - 10)\n",
    "\n",
    "# print the estimated coefficients (beta values)\n",
    "print(beta2.round(3))\n",
    "\n",
    "# print the mean squared error\n",
    "print(y_mse2.round(3))"
   ]
  },
  {
   "attachments": {},
   "cell_type": "markdown",
   "metadata": {},
   "source": [
    "#### (e) Find the $R^2$ and $R^2_a$ for the second-order model\n",
    "Result\n",
    "$$\n",
    "R^2 = 0.974 \\\\\n",
    "R^2_a = 0.948\n",
    "$$"
   ]
  },
  {
   "cell_type": "code",
   "execution_count": 7,
   "metadata": {},
   "outputs": [
    {
     "name": "stdout",
     "output_type": "stream",
     "text": [
      "0.974\n",
      "0.948\n"
     ]
    }
   ],
   "source": [
    "# Calculate the R^2 value\n",
    "y_bar = np.mean(y)\n",
    "SST = np.sum((y - y_bar)**2)\n",
    "SSR = np.sum((y_hat2 - y_bar)**2)\n",
    "R2 = SSR / SST\n",
    "print(R2.round(3))\n",
    "\n",
    "# Find the adjusted R^2 value\n",
    "n = len(y)\n",
    "p = 9\n",
    "adj_R2 = 1 - (1 - R2) * (n - 1) / (n - p - 1)\n",
    "print(adj_R2.round(3))"
   ]
  }
 ],
 "metadata": {
  "kernelspec": {
   "display_name": "atf",
   "language": "python",
   "name": "python3"
  },
  "language_info": {
   "codemirror_mode": {
    "name": "ipython",
    "version": 3
   },
   "file_extension": ".py",
   "mimetype": "text/x-python",
   "name": "python",
   "nbconvert_exporter": "python",
   "pygments_lexer": "ipython3",
   "version": "3.9.7"
  },
  "orig_nbformat": 4
 },
 "nbformat": 4,
 "nbformat_minor": 2
}
