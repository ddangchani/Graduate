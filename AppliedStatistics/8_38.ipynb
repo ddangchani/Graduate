{
 "cells": [
  {
   "attachments": {},
   "cell_type": "markdown",
   "metadata": {},
   "source": [
    "## Solution code for 8.38"
   ]
  },
  {
   "cell_type": "code",
   "execution_count": 2,
   "metadata": {},
   "outputs": [],
   "source": [
    "import pandas as pd\n",
    "import numpy as np\n",
    "\n",
    "# Read the data\n",
    "df = pd.read_csv('rent.csv')\n",
    "\n",
    "# Separate the data into X and y\n",
    "X = df[['X1','X2','X3']]\n",
    "y = df['y']\n",
    "\n",
    "# Import statsmodels\n",
    "import statsmodels.api as sm\n",
    "\n",
    "# add a constant to X\n",
    "X = sm.add_constant(X)"
   ]
  },
  {
   "attachments": {},
   "cell_type": "markdown",
   "metadata": {},
   "source": [
    "#### (a) Test the overall regression hypothesis $H_0 : \\beta_1=0$\n",
    "Reject $H_0$ : p-val $<0.05$"
   ]
  },
  {
   "cell_type": "code",
   "execution_count": 36,
   "metadata": {},
   "outputs": [
    {
     "name": "stdout",
     "output_type": "stream",
     "text": [
      "65.03660360494278\n",
      "True\n"
     ]
    }
   ],
   "source": [
    "# Test beta_1 = 0, beta_2 = 0, beta_3 = 0\n",
    "model = sm.OLS(y, X)\n",
    "results = model.fit()\n",
    "print(results.fvalue)\n",
    "print(results.f_pvalue < 0.05)"
   ]
  },
  {
   "attachments": {},
   "cell_type": "markdown",
   "metadata": {},
   "source": [
    "#### (b) Test $H_0 : \\beta_j = 0 \\;\\;\\text{for}\\;\\;j=1,2,3$\n",
    "- t test : reject $H_0$ for $\\beta_1, \\beta_2$\n",
    "- bonferroni approach : reject $H_0$ for $\\beta_1, \\beta_2$"
   ]
  },
  {
   "cell_type": "code",
   "execution_count": 11,
   "metadata": {},
   "outputs": [
    {
     "name": "stdout",
     "output_type": "stream",
     "text": [
      "const    False\n",
      "X1        True\n",
      "X2        True\n",
      "X3       False\n",
      "dtype: bool\n",
      "const    False\n",
      "X1        True\n",
      "X2        True\n",
      "X3       False\n",
      "dtype: bool\n"
     ]
    }
   ],
   "source": [
    "# Find whether p-value of beta_1, beta_2, beta_3 are all less than 0.05\n",
    "print(results.pvalues < 0.05)\n",
    "# Find whether p-value of beta_1, beta_2, beta_3 are all less than 0.05/3\n",
    "print(results.pvalues < 0.05/3)"
   ]
  },
  {
   "attachments": {},
   "cell_type": "markdown",
   "metadata": {},
   "source": [
    "#### (c) Find confidence intervals for $\\beta_1,\\beta_2,\\beta_3$ using original method and bonferroni method both"
   ]
  },
  {
   "cell_type": "code",
   "execution_count": 12,
   "metadata": {},
   "outputs": [
    {
     "name": "stdout",
     "output_type": "stream",
     "text": [
      "               0          1\n",
      "const  -9.209292  10.534824\n",
      "X1      0.614812   0.945730\n",
      "X2      0.247544   0.758696\n",
      "X3    -44.865645  10.665152\n"
     ]
    }
   ],
   "source": [
    "# 95% confidence interval of beta_1, beta_2, beta_3\n",
    "print(results.conf_int(0.05))"
   ]
  },
  {
   "cell_type": "code",
   "execution_count": 34,
   "metadata": {},
   "outputs": [
    {
     "name": "stdout",
     "output_type": "stream",
     "text": [
      "CI for beta_1:  0.5748355807891872 0.9857063765544931\n",
      "CI for beta_2:  0.18579526441438415 0.8204445460690801\n",
      "CI for beta_3:  -51.57396238054848 17.373469499409378\n"
     ]
    }
   ],
   "source": [
    "# upper bound for bonferonni confidence interval\n",
    "# get t 0.00833 quantile with dof 30 from t-table\n",
    "t = 2.5357\n",
    "\n",
    "# standard error for each beta\n",
    "se = results.bse\n",
    "\n",
    "# confidence interval = beta +- t * se\n",
    "print('CI for beta_1: ', results.params[1] - t * se[1], results.params[1] + t * se[1])\n",
    "print('CI for beta_2: ', results.params[2] - t * se[2], results.params[2] + t * se[2])\n",
    "print('CI for beta_3: ', results.params[3] - t * se[3], results.params[3] + t * se[3])"
   ]
  },
  {
   "attachments": {},
   "cell_type": "markdown",
   "metadata": {},
   "source": [
    "#### (d) Find a 95% confidence interval for $E(y_0) = \\mathbf{x^T_0\\beta}$"
   ]
  },
  {
   "cell_type": "code",
   "execution_count": 33,
   "metadata": {},
   "outputs": [
    {
     "name": "stdout",
     "output_type": "stream",
     "text": [
      "upper bound for E[y_0]:  25.677130203356864\n",
      "lower bound for E[y_0]:  12.143478925003503\n"
     ]
    }
   ],
   "source": [
    "# confidence interval for E[y_0] at x_0 = [1,15,30,0.5]\n",
    "x_0 = [1,15,30,0.5]\n",
    "Ey_0 = np.dot(x_0, results.params)\n",
    "# two-tailed t 0.05 quantile with dof 30 from t-table\n",
    "t = 2.042\n",
    "# standard error for Ey_0\n",
    "se = np.sqrt(np.dot(np.dot(x_0, results.cov_params()), x_0))\n",
    "# confidence interval = Ey_0 +- t * se\n",
    "print('upper bound for E[y_0]: ', Ey_0 + t * se)\n",
    "print('lower bound for E[y_0]: ', Ey_0 - t * se)"
   ]
  },
  {
   "attachments": {},
   "cell_type": "markdown",
   "metadata": {},
   "source": [
    "#### (e) Find a 95% prediction interval for $y_0 = \\mathbf{x^T_0\\beta} + \\epsilon$"
   ]
  },
  {
   "cell_type": "code",
   "execution_count": 30,
   "metadata": {},
   "outputs": [
    {
     "name": "stdout",
     "output_type": "stream",
     "text": [
      "upper bound for y_0:  37.059925394016474\n",
      "lower bound for y_0:  0.7606837343438961\n"
     ]
    }
   ],
   "source": [
    "# 95% prediction interval for y_0\n",
    "x_0 = [1,15,30,0.5]\n",
    "result_pred = results.get_prediction(x_0).conf_int(0.05)\n",
    "\n",
    "print('upper bound for y_0: ', result_pred[0][1])\n",
    "print('lower bound for y_0: ', result_pred[0][0])"
   ]
  }
 ],
 "metadata": {
  "kernelspec": {
   "display_name": "atf",
   "language": "python",
   "name": "python3"
  },
  "language_info": {
   "codemirror_mode": {
    "name": "ipython",
    "version": 3
   },
   "file_extension": ".py",
   "mimetype": "text/x-python",
   "name": "python",
   "nbconvert_exporter": "python",
   "pygments_lexer": "ipython3",
   "version": "3.9.7"
  },
  "orig_nbformat": 4
 },
 "nbformat": 4,
 "nbformat_minor": 2
}
