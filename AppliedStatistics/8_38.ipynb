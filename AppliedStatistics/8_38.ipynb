{
 "cells": [
  {
   "attachments": {},
   "cell_type": "markdown",
   "metadata": {},
   "source": [
    "## Solution code for 8.38"
   ]
  },
  {
   "cell_type": "code",
   "execution_count": 5,
   "metadata": {},
   "outputs": [],
   "source": [
    "import pandas as pd\n",
    "import numpy as np\n",
    "\n",
    "# Read the data\n",
    "df = pd.read_csv('rent.csv')\n",
    "\n",
    "# Separate the data into X and y\n",
    "X = df[['X1','X2','X3']]\n",
    "y = df['y']\n",
    "\n",
    "# Import statsmodels\n",
    "import statsmodels.api as sm\n",
    "\n",
    "# add a constant to X\n",
    "X = sm.add_constant(X)\n"
   ]
  },
  {
   "cell_type": "code",
   "execution_count": 11,
   "metadata": {},
   "outputs": [
    {
     "name": "stdout",
     "output_type": "stream",
     "text": [
      "                            OLS Regression Results                            \n",
      "==============================================================================\n",
      "Dep. Variable:                      y   R-squared:                       0.867\n",
      "Model:                            OLS   Adj. R-squared:                  0.853\n",
      "Method:                 Least Squares   F-statistic:                     65.04\n",
      "Date:                Thu, 13 Apr 2023   Prob (F-statistic):           3.11e-13\n",
      "Time:                        00:33:56   Log-Likelihood:                -117.85\n",
      "No. Observations:                  34   AIC:                             243.7\n",
      "Df Residuals:                      30   BIC:                             249.8\n",
      "Df Model:                           3                                         \n",
      "Covariance Type:            nonrobust                                         \n",
      "==============================================================================\n",
      "                 coef    std err          t      P>|t|      [0.025      0.975]\n",
      "------------------------------------------------------------------------------\n",
      "const          0.6628      4.834      0.137      0.892      -9.209      10.535\n",
      "X1             0.7803      0.081      9.631      0.000       0.615       0.946\n",
      "X2             0.5031      0.125      4.020      0.000       0.248       0.759\n",
      "X3           -17.1002     13.595     -1.258      0.218     -44.866      10.665\n",
      "==============================================================================\n",
      "Omnibus:                        0.031   Durbin-Watson:                   2.846\n",
      "Prob(Omnibus):                  0.985   Jarque-Bera (JB):                0.140\n",
      "Skew:                           0.063   Prob(JB):                        0.932\n",
      "Kurtosis:                       2.711   Cond. No.                         514.\n",
      "==============================================================================\n",
      "\n",
      "Notes:\n",
      "[1] Standard Errors assume that the covariance matrix of the errors is correctly specified.\n"
     ]
    }
   ],
   "source": [
    "# Test beta_1 = 0, beta_2 = 0, beta_3 = 0\n",
    "model = sm.OLS(y, X)\n",
    "results = model.fit()\n",
    "print(results.summary())"
   ]
  },
  {
   "cell_type": "code",
   "execution_count": 24,
   "metadata": {},
   "outputs": [
    {
     "name": "stdout",
     "output_type": "stream",
     "text": [
      "upper bound for beta_1:  0.9857063765544931\n",
      "lower bound for beta_1:  0.5748355807891872\n",
      "upper bound for beta_2:  0.8204445460690801\n",
      "lower bound for beta_2:  0.18579526441438415\n",
      "upper bound for beta_3:  17.373469499409378\n",
      "lower bound for beta_3:  -51.57396238054848\n"
     ]
    }
   ],
   "source": [
    "# upper bound for bonferonni confidence interval\n",
    "# get t 0.00833 quantile with dof 30 from t-table\n",
    "t = 2.5357\n",
    "\n",
    "\n",
    "# standard error for each beta\n",
    "se = results.bse\n",
    "\n",
    "# confidence interval = beta +- t * se\n",
    "print('upper bound for beta_1: ', results.params[1] + t * se[1])\n",
    "print('lower bound for beta_1: ', results.params[1] - t * se[1])\n",
    "print('upper bound for beta_2: ', results.params[2] + t * se[2])\n",
    "print('lower bound for beta_2: ', results.params[2] - t * se[2])\n",
    "print('upper bound for beta_3: ', results.params[3] + t * se[3])\n",
    "print('lower bound for beta_3: ', results.params[3] - t * se[3])"
   ]
  },
  {
   "cell_type": "code",
   "execution_count": 25,
   "metadata": {},
   "outputs": [
    {
     "name": "stdout",
     "output_type": "stream",
     "text": [
      "confidence interval for E[y_0] at x_0 = [1,15,30,0.5]:  [27.31316439]\n"
     ]
    }
   ],
   "source": [
    "# confidence interval for E[y_0] at x_0 = [1,15,30,0.5]\n",
    "x_0 = [1,15,30,0.5]\n"
   ]
  },
  {
   "cell_type": "code",
   "execution_count": null,
   "metadata": {},
   "outputs": [],
   "source": []
  }
 ],
 "metadata": {
  "kernelspec": {
   "display_name": "atf",
   "language": "python",
   "name": "python3"
  },
  "language_info": {
   "codemirror_mode": {
    "name": "ipython",
    "version": 3
   },
   "file_extension": ".py",
   "mimetype": "text/x-python",
   "name": "python",
   "nbconvert_exporter": "python",
   "pygments_lexer": "ipython3",
   "version": "3.9.7"
  },
  "orig_nbformat": 4
 },
 "nbformat": 4,
 "nbformat_minor": 2
}
