{
 "cells": [
  {
   "cell_type": "code",
   "execution_count": 1,
   "metadata": {},
   "outputs": [
    {
     "name": "stdout",
     "output_type": "stream",
     "text": [
      "Pearsons correlation: 0.910\n"
     ]
    },
    {
     "data": {
      "text/plain": [
       "6.214127443804077"
      ]
     },
     "execution_count": 1,
     "metadata": {},
     "output_type": "execute_result"
    }
   ],
   "source": [
    "from scipy.stats import pearsonr\n",
    "import statsmodels.api as sm\n",
    "import numpy as np\n",
    "\n",
    "x = [3,3,4,5,6,6,7,8,8,9]\n",
    "y = [9,5,12,9,14,16,22,18,24,22]\n",
    "\n",
    "# sample correlation coefficient\n",
    "corr, _ = pearsonr(x, y)\n",
    "print('Pearsons correlation: %.3f' % corr)\n",
    "\n",
    "# test t statistic\n",
    "t = corr * np.sqrt((len(x)-2)/(1-corr**2))\n",
    "t"
   ]
  },
  {
   "cell_type": "code",
   "execution_count": 2,
   "metadata": {},
   "outputs": [
    {
     "data": {
      "text/plain": [
       "(5.533980582524273, 0.03812331024228999)"
      ]
     },
     "execution_count": 2,
     "metadata": {},
     "output_type": "execute_result"
    }
   ],
   "source": [
    "# 4-1\n",
    "import pandas as pd\n",
    "import numpy as np\n",
    "from scipy import stats\n",
    "\n",
    "python = [9.5,9.8,6.8,8.3,6.8,7.0,7.0,6.8]\n",
    "r = [5.0,6.0,6.2,5.2,6.2,6.4,6.2,6.4]\n",
    "\n",
    "# var_test\n",
    "def var_test(sample1, sample2):\n",
    "    n1 = len(sample1)\n",
    "    n2 = len(sample2)\n",
    "    s1 = np.var(sample1, ddof=1)\n",
    "    s2 = np.var(sample2, ddof=1)\n",
    "    F = s1/s2\n",
    "    df1 = n1-1\n",
    "    df2 = n2-1\n",
    "    p = 2*min(stats.f.cdf(F, df1, df2), 1-stats.f.cdf(F, df1, df2))\n",
    "    return F, p\n",
    "\n",
    "var_test(python, r)"
   ]
  },
  {
   "cell_type": "code",
   "execution_count": 3,
   "metadata": {},
   "outputs": [
    {
     "data": {
      "text/plain": [
       "Ttest_indResult(statistic=3.671503856001783, pvalue=0.004735030900838452)"
      ]
     },
     "execution_count": 3,
     "metadata": {},
     "output_type": "execute_result"
    }
   ],
   "source": [
    "# t_test\n",
    "from scipy.stats import ttest_ind\n",
    "ttest_ind(python, r, equal_var=False)"
   ]
  },
  {
   "cell_type": "code",
   "execution_count": 5,
   "metadata": {},
   "outputs": [
    {
     "data": {
      "text/plain": [
       "(3.2152804022430193,\n",
       " 0.20035986563286093,\n",
       " 2,\n",
       " array([[392.8048, 222.0424,  26.1528],\n",
       "        [373.1952, 210.9576,  24.8472]]))"
      ]
     },
     "execution_count": 5,
     "metadata": {},
     "output_type": "execute_result"
    }
   ],
   "source": [
    "# 2\n",
    "data = np.array([[378,237,26],[388,196,25]])\n",
    "# chi2_contingency\n",
    "from scipy.stats import chi2_contingency\n",
    "chi2_contingency(data)"
   ]
  },
  {
   "cell_type": "code",
   "execution_count": 7,
   "metadata": {},
   "outputs": [
    {
     "data": {
      "text/plain": [
       "Ttest_relResult(statistic=1.4638501094227998, pvalue=0.1015553318600274)"
      ]
     },
     "execution_count": 7,
     "metadata": {},
     "output_type": "execute_result"
    }
   ],
   "source": [
    "# 1\n",
    "before = [12,29,16,37,28,15]\n",
    "after = [10,28,17,35,25,16]\n",
    "\n",
    "# t_test\n",
    "from scipy.stats import ttest_rel\n",
    "ttest_rel(before, after, alternative='greater')"
   ]
  },
  {
   "cell_type": "code",
   "execution_count": null,
   "metadata": {},
   "outputs": [],
   "source": []
  }
 ],
 "metadata": {
  "kernelspec": {
   "display_name": "EDA",
   "language": "python",
   "name": "python3"
  },
  "language_info": {
   "codemirror_mode": {
    "name": "ipython",
    "version": 3
   },
   "file_extension": ".py",
   "mimetype": "text/x-python",
   "name": "python",
   "nbconvert_exporter": "python",
   "pygments_lexer": "ipython3",
   "version": "3.8.13"
  },
  "orig_nbformat": 4
 },
 "nbformat": 4,
 "nbformat_minor": 2
}
