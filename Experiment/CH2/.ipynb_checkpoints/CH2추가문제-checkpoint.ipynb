{
 "cells": [
  {
   "cell_type": "markdown",
   "metadata": {},
   "source": [
    "# 통계학실험 Chapter 2 추가문제"
   ]
  },
  {
   "cell_type": "code",
   "execution_count": 6,
   "metadata": {},
   "outputs": [],
   "source": [
    "import pandas as pd\n",
    "import numpy as np\n",
    "import seaborn as sns"
   ]
  },
  {
   "cell_type": "markdown",
   "metadata": {},
   "source": [
    "## 문제 1\n",
    "데이터프레임 `cars93.csv`를 로드하여 차량의 `Type`이 `Midsize`인 데이터의 개수와 평균 휠베이스(`Wheelbase`)를 소수점 셋째자리까지 추출하는 코드를 작성하시오."
   ]
  },
  {
   "cell_type": "code",
   "execution_count": 53,
   "metadata": {},
   "outputs": [
    {
     "name": "stdout",
     "output_type": "stream",
     "text": [
      "22\n",
      "107.409\n"
     ]
    }
   ],
   "source": [
    "data = pd.read_csv('cars93.csv', index_col = 0)\n",
    "midsize = data.loc[data.Type == 'Midsize',:]\n",
    "print(len(midsize)) # Answer = 22\n",
    "print(np.mean(midsize.Wheelbase).round(3)) # 107.409"
   ]
  },
  {
   "cell_type": "markdown",
   "metadata": {},
   "source": [
    "## 문제 2\n",
    "`seaborn` 패키지의 `iris` 데이터프레임을 로드하자. `for`문을 이용해 각 종(`species`)별 `sepal_length`의 평균과 표준편차를 소수점 셋째자리까지 텍스트로 출력해보시오."
   ]
  },
  {
   "cell_type": "code",
   "execution_count": 37,
   "metadata": {},
   "outputs": [
    {
     "name": "stdout",
     "output_type": "stream",
     "text": [
      "setosa : 평균 = 5.006, 표준편차 = 0.349\n",
      "versicolor : 평균 = 5.936, 표준편차 = 0.511\n",
      "virginica : 평균 = 6.588, 표준편차 = 0.629\n"
     ]
    }
   ],
   "source": [
    "data = sns.load_dataset('iris')\n",
    "species = data.species.unique()\n",
    "\n",
    "for s in species:\n",
    "    mu = np.mean(data.loc[data.species == s, 'sepal_length']).round(3)\n",
    "    sd = np.std(data.loc[data.species == s, 'sepal_length']).round(3)\n",
    "    print(f\"{s} : 평균 = {mu}, 표준편차 = {sd}\")"
   ]
  },
  {
   "cell_type": "markdown",
   "metadata": {},
   "source": [
    "# 문제 3\n",
    "빈 리스트 `ls`를 우선 생성하자. `for`문(총 반복회수 = 10000회)을 이용하여, 각 반복마다 빈 리스트에 1에서 5까지의 다섯 개의 정수 중 하나를 랜덤으로 추가하자. 이때 정수가 1000개 추가될 때 마다 각 수가 등장한 누적 비율을 소수점 셋째자리까지 리스트로 출력하는 프로그램을 작성해보시오."
   ]
  },
  {
   "cell_type": "code",
   "execution_count": 45,
   "metadata": {},
   "outputs": [
    {
     "name": "stdout",
     "output_type": "stream",
     "text": [
      "[0.198, 0.214, 0.19, 0.181, 0.217]\n",
      "[0.203, 0.214, 0.186, 0.192, 0.204]\n",
      "[0.207, 0.212, 0.192, 0.195, 0.194]\n",
      "[0.211, 0.208, 0.192, 0.194, 0.194]\n",
      "[0.208, 0.204, 0.195, 0.198, 0.195]\n",
      "[0.209, 0.202, 0.197, 0.199, 0.193]\n",
      "[0.206, 0.202, 0.198, 0.2, 0.194]\n",
      "[0.205, 0.203, 0.199, 0.199, 0.193]\n",
      "[0.205, 0.204, 0.199, 0.201, 0.191]\n",
      "[0.203, 0.203, 0.201, 0.203, 0.19]\n"
     ]
    }
   ],
   "source": [
    "ls = []\n",
    "\n",
    "for i in range(10000):\n",
    "    ls.append(np.random.randint(1,6))\n",
    "    if len(ls) % 1000 == 0:\n",
    "        p = [round(ls.count(j+1)/len(ls), 3) for j in range(5)]\n",
    "        print(p)"
   ]
  }
 ],
 "metadata": {
  "kernelspec": {
   "display_name": "Python 3 (ipykernel)",
   "language": "python",
   "name": "python3"
  },
  "language_info": {
   "codemirror_mode": {
    "name": "ipython",
    "version": 3
   },
   "file_extension": ".py",
   "mimetype": "text/x-python",
   "name": "python",
   "nbconvert_exporter": "python",
   "pygments_lexer": "ipython3",
   "version": "3.9.7"
  }
 },
 "nbformat": 4,
 "nbformat_minor": 2
}
