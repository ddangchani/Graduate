{
 "cells": [
  {
   "cell_type": "markdown",
   "metadata": {},
   "source": [
    "# 통계학실험 Chapter 2 추가문제"
   ]
  },
  {
   "attachments": {},
   "cell_type": "markdown",
   "metadata": {},
   "source": [
    "## 문제 1\n",
    "문제1. `pandas` 패키지을 이용하여 `cars93.csv` 파일을 DataFrame으로 읽어들인 후, \n",
    "\n",
    "1. 차량의 `Type`이 `Midsize`인 데이터의 개수를 구하시오. </br>\n",
    "2. 휠베이스(`Wheelbase`)의 평균을 소수점 셋째자리까지 구하시오(Hint : `round` 함수를 이용). </br>\n",
    "3. `Origin`이 `USA`인 차량의 가격(`Price`)와 `non-USA`인 차량의 가격(`Price`)의 평균을 구하고 비교하시오. "
   ]
  },
  {
   "cell_type": "code",
   "execution_count": 7,
   "metadata": {},
   "outputs": [
    {
     "name": "stdout",
     "output_type": "stream",
     "text": [
      "22\n",
      "103.946\n",
      "18.572916666666668\n",
      "20.50888888888889\n"
     ]
    }
   ],
   "source": [
    "import pandas as pd\n",
    "import numpy as np\n",
    "\n",
    "data = pd.read_csv('cars93.csv', index_col = 0)\n",
    "\n",
    "# Q1\n",
    "midsize = data.loc[data.Type == 'Midsize',:]\n",
    "print(len(midsize))\n",
    "\n",
    "# Q2\n",
    "print(np.mean(data.Wheelbase).round(3))\n",
    "\n",
    "# Q3\n",
    "usa = data.loc[data.Origin=='USA', : ]\n",
    "non_usa = data.loc[data.Origin=='non-USA', : ]\n",
    "\n",
    "print(np.mean(usa.Price))\n",
    "print(np.mean(non_usa.Price))"
   ]
  },
  {
   "attachments": {},
   "cell_type": "markdown",
   "metadata": {},
   "source": [
    "## 문제 2\n",
    "`seaborn` 패키지의 `iris` 데이터프레임을 로드하자. `for`문을 이용해 각 종(`species`)별 `sepal_length`의 평균과 표준편차를 `round` 함수를 이용하여 소수점 셋째자리까지 텍스트로 출력해보시오."
   ]
  },
  {
   "cell_type": "code",
   "execution_count": 8,
   "metadata": {},
   "outputs": [
    {
     "name": "stdout",
     "output_type": "stream",
     "text": [
      "setosa : 평균 = 5.006, 표준편차 = 0.349\n",
      "versicolor : 평균 = 5.936, 표준편차 = 0.511\n",
      "virginica : 평균 = 6.588, 표준편차 = 0.629\n"
     ]
    }
   ],
   "source": [
    "import seaborn as sns\n",
    "import numpy as np\n",
    "\n",
    "data = sns.load_dataset('iris')\n",
    "species = data.species.unique()\n",
    "\n",
    "for s in species:\n",
    "    mu = np.mean(data.loc[data.species == s, 'sepal_length']).round(3)\n",
    "    sd = np.std(data.loc[data.species == s, 'sepal_length']).round(3)\n",
    "    print(f\"{s} : 평균 = {mu}, 표준편차 = {sd}\")"
   ]
  },
  {
   "attachments": {},
   "cell_type": "markdown",
   "metadata": {},
   "source": [
    "## 문제3. \n",
    "\n",
    "1. seed를 10로 지정하고 1 이상 100 이하의 자연수에서 50개를 임의로 선택하여 5 × 10 크기의 행렬을 생성하시오. </br>\n",
    "2. 1에서 생성된 행렬에서 2번째 행부터 5번째 행까지 추출하여 저장하시오.(**※ 인덱스 주의!!!**) </br>\n",
    "3. 1에서 생성된 행렬의 7번째 열의 평균과 분산을 계산하시오."
   ]
  },
  {
   "cell_type": "code",
   "execution_count": 9,
   "metadata": {},
   "outputs": [
    {
     "name": "stdout",
     "output_type": "stream",
     "text": [
      "41.2\n",
      "252.56000000000003\n"
     ]
    }
   ],
   "source": [
    "import numpy as np\n",
    "\n",
    "np.random.seed(10)\n",
    "mat = np.random.randint(1, 101, size=(5,10))\n",
    "mat\n",
    "\n",
    "mat_24 = mat[1:5, :]\n",
    "mat_24\n",
    "\n",
    "mat_7 = mat[:,6]\n",
    "print(np.mean(mat_7)) # 평균\n",
    "print(np.var(mat_7)) # 분산"
   ]
  },
  {
   "attachments": {},
   "cell_type": "markdown",
   "metadata": {},
   "source": [
    "## 문제 4\n",
    "1seed를 30으로 고정하고 1 이상 1000 이하의 자연수에서 100개의 자연수를 복원추출하여 1차원 array로 저장하자. </br>\n",
    "(2) (1)에서 저장한 array의 각 원소에 대해 5의 배수이면 1, 그렇지 않으면 0을 가지는 새로운 array를 만들고, 이 array의 평균과 표준편차를 구하시오."
   ]
  },
  {
   "cell_type": "code",
   "execution_count": 10,
   "metadata": {},
   "outputs": [
    {
     "name": "stdout",
     "output_type": "stream",
     "text": [
      "0.33\n",
      "0.47021271782034985\n"
     ]
    }
   ],
   "source": [
    "import numpy as np\n",
    "np.random.seed(30)\n",
    "arr = np.random.randint(1, 1001, size=100)\n",
    "arr2 = np.array([])\n",
    "for i in arr:\n",
    "    if i%3 == 0:\n",
    "        arr2 = np.append(arr2, np.array([1]))\n",
    "    else:\n",
    "        arr2 = np.append(arr2, np.array([0]))\n",
    "\n",
    "print(np.mean(arr2))\n",
    "print(np.std(arr2))"
   ]
  },
  {
   "attachments": {},
   "cell_type": "markdown",
   "metadata": {},
   "source": [
    "## 문제 5\n",
    "빈 리스트 `ls`를 우선 생성하자. `for`문(총 반복회수 = 10000회)을 이용하여, 각 반복마다 빈 리스트에 1에서 5까지의 다섯 개의 정수 중 하나를 랜덤으로 추가하자.</br>\n",
    "이때 정수가 1000개 추가될 때 마다 각 수가 등장한 누적 비율을 소수점 셋째자리까지 리스트로 출력하는 프로그램을 작성해보시오."
   ]
  },
  {
   "cell_type": "code",
   "execution_count": 11,
   "metadata": {},
   "outputs": [
    {
     "name": "stdout",
     "output_type": "stream",
     "text": [
      "[0.204, 0.203, 0.189, 0.216, 0.188]\n",
      "[0.196, 0.202, 0.193, 0.211, 0.198]\n",
      "[0.197, 0.202, 0.189, 0.211, 0.201]\n",
      "[0.195, 0.203, 0.195, 0.207, 0.2]\n",
      "[0.193, 0.203, 0.194, 0.207, 0.203]\n",
      "[0.192, 0.203, 0.197, 0.205, 0.203]\n",
      "[0.193, 0.205, 0.197, 0.203, 0.202]\n",
      "[0.194, 0.206, 0.197, 0.203, 0.201]\n",
      "[0.195, 0.202, 0.199, 0.204, 0.199]\n",
      "[0.197, 0.202, 0.198, 0.204, 0.199]\n"
     ]
    }
   ],
   "source": [
    "ls = []\n",
    "\n",
    "for i in range(10000):\n",
    "    ls.append(np.random.randint(1,6))\n",
    "    if len(ls) % 1000 == 0:\n",
    "        p = [round(ls.count(j+1)/len(ls), 3) for j in range(5)]\n",
    "        print(p)"
   ]
  }
 ],
 "metadata": {
  "kernelspec": {
   "display_name": "Python 3 (ipykernel)",
   "language": "python",
   "name": "python3"
  },
  "language_info": {
   "codemirror_mode": {
    "name": "ipython",
    "version": 3
   },
   "file_extension": ".py",
   "mimetype": "text/x-python",
   "name": "python",
   "nbconvert_exporter": "python",
   "pygments_lexer": "ipython3",
   "version": "3.9.7"
  }
 },
 "nbformat": 4,
 "nbformat_minor": 2
}
