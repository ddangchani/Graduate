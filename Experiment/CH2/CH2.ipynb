{
 "cells": [
  {
   "cell_type": "markdown",
   "metadata": {},
   "source": [
    "# 통계학실험 Chapter 2 Python 과제 및 답안"
   ]
  },
  {
   "cell_type": "markdown",
   "metadata": {},
   "source": [
    "## 문제 1\n",
    "`pandas` 패키지을 이용하여 `cars93.csv` 파일을 DataFrame으로 읽어들인 후, \n",
    "\n",
    "1. 차량의 `Type`이 `Midsize`인 데이터의 개수를 구하시오.\n",
    "2. 휠베이스(`Wheelbase`)의 평균을 소수점 셋째자리까지 구하시오(Hint : `round` 함수를 이용). \n",
    "3. `Origin`이 `USA`인 차량의 가격(`Price`)와 `non-USA`인 차량의 가격(`Price`)의 평균을 구하고 비교하시오. "
   ]
  },
  {
   "cell_type": "code",
   "execution_count": 7,
   "metadata": {},
   "outputs": [
    {
     "name": "stdout",
     "output_type": "stream",
     "text": [
      "22\n",
      "103.946\n",
      "18.572916666666668\n",
      "20.50888888888889\n"
     ]
    }
   ],
   "source": [
    "import pandas as pd\n",
    "import numpy as np\n",
    "\n",
    "data = pd.read_csv('cars93.csv', index_col = 0)\n",
    "\n",
    "# Q1\n",
    "midsize = data.loc[data.Type == 'Midsize',:]\n",
    "print(len(midsize))\n",
    "\n",
    "# Q2\n",
    "print(np.mean(data.Wheelbase).round(3))\n",
    "\n",
    "# Q3\n",
    "usa = data.loc[data.Origin=='USA', : ]\n",
    "non_usa = data.loc[data.Origin=='non-USA', : ]\n",
    "\n",
    "print(np.mean(usa.Price))\n",
    "print(np.mean(non_usa.Price))"
   ]
  },
  {
   "cell_type": "markdown",
   "metadata": {},
   "source": [
    "## 문제 2\n",
    "`seaborn` 패키지의 `iris` 데이터프레임을 로드하자. `for`문을 이용해 각 종(`species`)별 `sepal_length`의 평균과 표준편차를 `round` 함수를 이용하여 소수점 셋째자리까지 텍스트로 출력해보시오."
   ]
  },
  {
   "cell_type": "code",
   "execution_count": 10,
   "metadata": {},
   "outputs": [
    {
     "name": "stdout",
     "output_type": "stream",
     "text": [
      "setosa : 평균 = 5.006, 표준편차 = 0.349\n",
      "versicolor : 평균 = 5.936, 표준편차 = 0.511\n",
      "virginica : 평균 = 6.588, 표준편차 = 0.629\n"
     ]
    }
   ],
   "source": [
    "import seaborn as sns\n",
    "import numpy as np\n",
    "\n",
    "data = sns.load_dataset('iris')\n",
    "species = data.species.unique()\n",
    "\n",
    "for s in species:\n",
    "    mu = np.mean(data.loc[data.species == s, 'sepal_length'])\n",
    "    sd = np.std(data.loc[data.species == s, 'sepal_length'])\n",
    "    print(f\"{s} : 평균 = {round(mu,3)}, 표준편차 = {round(sd,3)}\")"
   ]
  },
  {
   "cell_type": "markdown",
   "metadata": {},
   "source": [
    "## 문제3\n",
    "\n",
    "1. `seed`를 10로 지정하고 1 이상 100 이하의 자연수에서 50개를 임의로 선택하여 5 × 10 크기의 행렬을 생성하시오. \n",
    "2. 1에서 생성된 행렬에서 2번째 행부터 5번째 행까지 추출하여 저장하시오.(**※ 인덱스 주의!!!**) \n",
    "3. 1에서 생성된 행렬의 7번째 열의 평균과 분산을 계산하시오."
   ]
  },
  {
   "cell_type": "code",
   "execution_count": 12,
   "metadata": {},
   "outputs": [
    {
     "name": "stdout",
     "output_type": "stream",
     "text": [
      "[[41 37 17 12 55 89 63 34 73 79]\n",
      " [50 52 55 78 70 14 26 14 93 87]\n",
      " [31 31 90 13 66 32 58 37 28 19]\n",
      " [94 78 23 24 95 12 29 75 89 10]]\n",
      "41.2\n",
      "252.56000000000003\n"
     ]
    }
   ],
   "source": [
    "import numpy as np\n",
    "\n",
    "np.random.seed(10)\n",
    "mat = np.random.randint(1, 101, size=(5,10))\n",
    "mat\n",
    "\n",
    "mat_24 = mat[1:5, :]\n",
    "print(mat_24)\n",
    "\n",
    "mat_7 = mat[:,6]\n",
    "print(np.mean(mat_7)) # 평균\n",
    "print(np.var(mat_7)) # 분산"
   ]
  },
  {
   "cell_type": "markdown",
   "metadata": {},
   "source": [
    "## 문제 4\n",
    "1. `seed`를 30으로 고정하고 1 이상 1000 이하의 자연수에서 100개의 자연수를 복원추출하여 1차원 `array`로 저장하자.\n",
    "2. 1에서 저장한 `array`의 각 원소에 대해 5의 배수이면 1, 그렇지 않으면 0을 가지는 새로운 `array`를 만들고, 이 `array`의 평균과 표준편차를 구하시오."
   ]
  },
  {
   "cell_type": "code",
   "execution_count": 10,
   "metadata": {},
   "outputs": [
    {
     "name": "stdout",
     "output_type": "stream",
     "text": [
      "0.33\n",
      "0.47021271782034985\n"
     ]
    }
   ],
   "source": [
    "import numpy as np\n",
    "np.random.seed(30)\n",
    "arr = np.random.randint(1, 1001, size=100)\n",
    "arr2 = np.array([])\n",
    "for i in arr:\n",
    "    if i%3 == 0:\n",
    "        arr2 = np.append(arr2, np.array([1]))\n",
    "    else:\n",
    "        arr2 = np.append(arr2, np.array([0]))\n",
    "\n",
    "print(np.mean(arr2))\n",
    "print(np.std(arr2))"
   ]
  },
  {
   "cell_type": "markdown",
   "metadata": {},
   "source": [
    "## 문제 5 \n",
    "\n",
    "다음의 지시에 따라 반복문(for), 조건문(if)을 이용하여 리스트 x와 x의 평균이 출력되는 코드를 작성하시오.\n",
    "1. 빈 리스트 x를 생성하자. \n",
    "2. 1부터 100까지 정수 중에서 10개를 랜덤하게 추출하여 a와 b에 저장한다. \n",
    "3. a와 b의 값들의 크기를 서로 비교하여 크기가 큰 값들을 리스트 x에 저장(x.append() 이용)하고 그렇지 않으면 리스트 x에 0을 저장한다. \n",
    "4. 리스트 x에 저장된 값들을 출력하고 이 값들의 평균을 구하여 출력한다. "
   ]
  },
  {
   "cell_type": "code",
   "execution_count": 1,
   "metadata": {},
   "outputs": [
    {
     "name": "stdout",
     "output_type": "stream",
     "text": [
      "[82, 82, 77, 75, 65, 77, 0, 68, 89, 54]\n",
      "66.9\n"
     ]
    }
   ],
   "source": [
    "import numpy as np\n",
    " \n",
    "x = []\n",
    " \n",
    "a = np.random.choice(101, 10)\n",
    "b = np.random.choice(101, 10)\n",
    "\n",
    "for i in range(0, 10):\n",
    "    if a[i]<b[i]:\n",
    "        x.append(b[i])\n",
    "    elif b[i] < a[i]:\n",
    "        x.append(a[i])\n",
    "    else:\n",
    "        x.append(0)\n",
    "\n",
    "print(x)\n",
    "print(np.mean(x))"
   ]
  },
  {
   "cell_type": "code",
   "execution_count": null,
   "metadata": {},
   "outputs": [],
   "source": []
  }
 ],
 "metadata": {
  "kernelspec": {
   "display_name": "Python 3",
   "language": "python",
   "name": "python3"
  },
  "language_info": {
   "codemirror_mode": {
    "name": "ipython",
    "version": 3
   },
   "file_extension": ".py",
   "mimetype": "text/x-python",
   "name": "python",
   "nbconvert_exporter": "python",
   "pygments_lexer": "ipython3",
   "version": "3.8.16"
  },
  "vscode": {
   "interpreter": {
    "hash": "057b2dfdcbeb6152fe7a6de916733e2aadd6aefdf07a18e5e9a0b06119769157"
   }
  }
 },
 "nbformat": 4,
 "nbformat_minor": 2
}
