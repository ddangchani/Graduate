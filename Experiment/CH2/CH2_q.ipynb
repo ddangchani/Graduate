{
 "cells": [
  {
   "attachments": {},
   "cell_type": "markdown",
   "metadata": {},
   "source": [
    "# 통계학실험 Chapter 2 Python 과제"
   ]
  },
  {
   "attachments": {},
   "cell_type": "markdown",
   "metadata": {},
   "source": [
    "## 문제 1\n",
    "`pandas` 패키지을 이용하여 `cars93.csv` 파일을 DataFrame으로 읽어들인 후, \n",
    "\n",
    "1. 차량의 `Type`이 `Midsize`인 데이터의 개수를 구하시오.\n",
    "2. 휠베이스(`Wheelbase`)의 평균을 소수점 셋째자리까지 구하시오(Hint : `round` 함수를 이용). \n",
    "3. `Origin`이 `USA`인 차량의 가격(`Price`)와 `non-USA`인 차량의 가격(`Price`)의 평균을 구하고 비교하시오. "
   ]
  },
  {
   "attachments": {},
   "cell_type": "markdown",
   "metadata": {},
   "source": [
    "## 문제 2\n",
    "`seaborn` 패키지의 `iris` 데이터프레임을 로드하자. `for`문을 이용해 각 종(`species`)별 `sepal_length`의 평균과 표준편차를 `round` 함수를 이용하여 소수점 셋째자리까지 텍스트로 출력해보시오."
   ]
  },
  {
   "attachments": {},
   "cell_type": "markdown",
   "metadata": {},
   "source": [
    "## 문제3\n",
    "\n",
    "1. `seed`를 10로 지정하고 1 이상 100 이하의 자연수에서 50개를 임의로 선택하여 5 × 10 크기의 행렬을 생성하시오. \n",
    "2. 1에서 생성된 행렬에서 2번째 행부터 5번째 행까지 추출하여 저장하시오.(**※ 인덱스 주의!!!**) \n",
    "3. 1에서 생성된 행렬의 7번째 열의 평균과 분산을 계산하시오."
   ]
  },
  {
   "attachments": {},
   "cell_type": "markdown",
   "metadata": {},
   "source": [
    "## 문제 4\n",
    "1. `seed`를 30으로 고정하고 1 이상 1000 이하의 자연수에서 100개의 자연수를 복원추출하여 1차원 `array`로 저장하자.\n",
    "2. 1에서 저장한 `array`의 각 원소에 대해 5의 배수이면 1, 그렇지 않으면 0을 가지는 새로운 `array`를 만들고, 이 `array`의 평균과 표준편차를 구하시오."
   ]
  },
  {
   "attachments": {},
   "cell_type": "markdown",
   "metadata": {},
   "source": [
    "## 문제 5\n",
    "빈 리스트 `ls`를 우선 생성하자. `for`문(총 반복회수 = 10000회)을 이용하여, 각 반복마다 빈 리스트에 1에서 5까지의 다섯 개의 정수 중 하나를 랜덤으로 추가하자.\n",
    "\n",
    "이때 정수가 1000개 추가될 때 마다 각 수가 등장한 누적 비율을 소수점 셋째자리까지 리스트로 출력하는 프로그램을 작성해보시오."
   ]
  }
 ],
 "metadata": {
  "kernelspec": {
   "display_name": "Python 3 (ipykernel)",
   "language": "python",
   "name": "python3"
  },
  "language_info": {
   "codemirror_mode": {
    "name": "ipython",
    "version": 3
   },
   "file_extension": ".py",
   "mimetype": "text/x-python",
   "name": "python",
   "nbconvert_exporter": "python",
   "pygments_lexer": "ipython3",
   "version": "3.9.7"
  }
 },
 "nbformat": 4,
 "nbformat_minor": 2
}
