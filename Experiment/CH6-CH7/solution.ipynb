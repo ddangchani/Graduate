{
 "cells": [
  {
   "attachments": {},
   "cell_type": "markdown",
   "metadata": {},
   "source": [
    "## 6장"
   ]
  },
  {
   "cell_type": "code",
   "execution_count": 54,
   "metadata": {},
   "outputs": [],
   "source": [
    "import pandas as pd\n",
    "import numpy as np\n",
    "import scipy.stats as stats\n",
    "\n",
    "data = pd.read_csv('run10samp.txt', sep=' ')"
   ]
  },
  {
   "cell_type": "code",
   "execution_count": 55,
   "metadata": {},
   "outputs": [
    {
     "data": {
      "text/plain": [
       "state\n",
       "DC     96.321923\n",
       "IN    141.940000\n",
       "LA    117.020000\n",
       "MD     90.436667\n",
       "ME     96.390000\n",
       "MI     97.970000\n",
       "NC     68.460000\n",
       "NJ     98.947500\n",
       "NY     98.190000\n",
       "PA     93.765000\n",
       "VA     95.768974\n",
       "Name: time, dtype: float64"
      ]
     },
     "execution_count": 55,
     "metadata": {},
     "output_type": "execute_result"
    }
   ],
   "source": [
    "# 문제 1\n",
    "data.groupby(by='state')['time'].mean()"
   ]
  },
  {
   "cell_type": "code",
   "execution_count": 56,
   "metadata": {},
   "outputs": [
    {
     "data": {
      "text/plain": [
       "state\n",
       "DC    269.610560\n",
       "IN           NaN\n",
       "LA           NaN\n",
       "MD    327.792718\n",
       "ME           NaN\n",
       "MI           NaN\n",
       "NC           NaN\n",
       "NJ    525.323892\n",
       "NY    245.156920\n",
       "PA     88.578050\n",
       "VA    144.835662\n",
       "Name: time, dtype: float64"
      ]
     },
     "execution_count": 56,
     "metadata": {},
     "output_type": "execute_result"
    }
   ],
   "source": [
    "data.groupby(by='state')['time'].var() "
   ]
  },
  {
   "cell_type": "code",
   "execution_count": 57,
   "metadata": {},
   "outputs": [
    {
     "data": {
      "text/html": [
       "<div>\n",
       "<style scoped>\n",
       "    .dataframe tbody tr th:only-of-type {\n",
       "        vertical-align: middle;\n",
       "    }\n",
       "\n",
       "    .dataframe tbody tr th {\n",
       "        vertical-align: top;\n",
       "    }\n",
       "\n",
       "    .dataframe thead th {\n",
       "        text-align: right;\n",
       "    }\n",
       "</style>\n",
       "<table border=\"1\" class=\"dataframe\">\n",
       "  <thead>\n",
       "    <tr style=\"text-align: right;\">\n",
       "      <th></th>\n",
       "      <th>time</th>\n",
       "      <th>age</th>\n",
       "      <th>gender</th>\n",
       "    </tr>\n",
       "    <tr>\n",
       "      <th>state</th>\n",
       "      <th></th>\n",
       "      <th></th>\n",
       "      <th></th>\n",
       "    </tr>\n",
       "  </thead>\n",
       "  <tbody>\n",
       "    <tr>\n",
       "      <th>DC</th>\n",
       "      <td>26</td>\n",
       "      <td>26</td>\n",
       "      <td>26</td>\n",
       "    </tr>\n",
       "    <tr>\n",
       "      <th>IN</th>\n",
       "      <td>1</td>\n",
       "      <td>1</td>\n",
       "      <td>1</td>\n",
       "    </tr>\n",
       "    <tr>\n",
       "      <th>LA</th>\n",
       "      <td>1</td>\n",
       "      <td>1</td>\n",
       "      <td>1</td>\n",
       "    </tr>\n",
       "    <tr>\n",
       "      <th>MD</th>\n",
       "      <td>18</td>\n",
       "      <td>18</td>\n",
       "      <td>18</td>\n",
       "    </tr>\n",
       "    <tr>\n",
       "      <th>ME</th>\n",
       "      <td>1</td>\n",
       "      <td>1</td>\n",
       "      <td>1</td>\n",
       "    </tr>\n",
       "    <tr>\n",
       "      <th>MI</th>\n",
       "      <td>1</td>\n",
       "      <td>1</td>\n",
       "      <td>1</td>\n",
       "    </tr>\n",
       "    <tr>\n",
       "      <th>NC</th>\n",
       "      <td>1</td>\n",
       "      <td>1</td>\n",
       "      <td>1</td>\n",
       "    </tr>\n",
       "    <tr>\n",
       "      <th>NJ</th>\n",
       "      <td>4</td>\n",
       "      <td>4</td>\n",
       "      <td>4</td>\n",
       "    </tr>\n",
       "    <tr>\n",
       "      <th>NY</th>\n",
       "      <td>6</td>\n",
       "      <td>6</td>\n",
       "      <td>6</td>\n",
       "    </tr>\n",
       "    <tr>\n",
       "      <th>PA</th>\n",
       "      <td>2</td>\n",
       "      <td>2</td>\n",
       "      <td>2</td>\n",
       "    </tr>\n",
       "    <tr>\n",
       "      <th>VA</th>\n",
       "      <td>39</td>\n",
       "      <td>39</td>\n",
       "      <td>39</td>\n",
       "    </tr>\n",
       "  </tbody>\n",
       "</table>\n",
       "</div>"
      ],
      "text/plain": [
       "       time  age  gender\n",
       "state                   \n",
       "DC       26   26      26\n",
       "IN        1    1       1\n",
       "LA        1    1       1\n",
       "MD       18   18      18\n",
       "ME        1    1       1\n",
       "MI        1    1       1\n",
       "NC        1    1       1\n",
       "NJ        4    4       4\n",
       "NY        6    6       6\n",
       "PA        2    2       2\n",
       "VA       39   39      39"
      ]
     },
     "execution_count": 57,
     "metadata": {},
     "output_type": "execute_result"
    }
   ],
   "source": [
    "data.groupby(by='state').count() ## 값이 한 개인 데이터는 분산이 계산되지 않음"
   ]
  },
  {
   "cell_type": "code",
   "execution_count": 58,
   "metadata": {},
   "outputs": [],
   "source": [
    "# 문제 2\n",
    "# 2-1. 등분산성을 검정하는 함수 var_test를 작성하시오.\n",
    "def var_test(x, y, alpha=0.05):\n",
    "    F = np.var(x, ddof=1)/np.var(y, ddof=1)\n",
    "    df1 = len(x)-1\n",
    "    df2 = len(y)-1\n",
    "    p_value = 2 * min(stats.f.cdf(F, df1, df2), 1-stats.f.cdf(F, df1, df2))\n",
    "    return p_value > alpha\n",
    "\n"
   ]
  },
  {
   "cell_type": "code",
   "execution_count": 60,
   "metadata": {},
   "outputs": [
    {
     "name": "stdout",
     "output_type": "stream",
     "text": [
      "False\n",
      "Ttest_indResult(statistic=0.08462882232242173, pvalue=0.9327296795663862)\n"
     ]
    }
   ],
   "source": [
    "# 2-2. state 변수에서 VA는 버지니아 주를 의미한다. 출신지역이 버지니아인 사람들과 그 외 사람들 간의 완주시간에 차이가 있는가? 적절한 가설을 세워서 유의수준 5%에서 이를 검정하 여라.\n",
    "from scipy.stats import ttest_ind\n",
    "\n",
    "VA = data[data['state']=='VA']['time']\n",
    "other = data[data['state']!='VA']['time']\n",
    "\n",
    "print(var_test(VA, other))\n",
    "print(ttest_ind(VA, other, equal_var=var_test(VA, other)))"
   ]
  },
  {
   "cell_type": "code",
   "execution_count": 36,
   "metadata": {},
   "outputs": [],
   "source": [
    "# 문제 3\n",
    "# 3-1. a 와 b를 매개 변수로 받아 a와 b의 덧셈(add), 뺄셈(sub), 나눗셈(div), 곱셈(mul)을 반환값으로 주는 함수를 각각 작성하여라. 나눗셈의 경우 0으로 나누면 “0으로 나눌 수 없습 니다” 문장을 반환하여라.\n",
    "def add(a, b):\n",
    "    return a+b\n",
    "def sub(a, b):\n",
    "    return a-b\n",
    "def div(a, b):\n",
    "    if b == 0:\n",
    "        return '0으로 나눌 수 없습니다.'\n",
    "    else:\n",
    "        return a/b\n",
    "def mul(a, b):\n",
    "    return a*b\n"
   ]
  },
  {
   "cell_type": "code",
   "execution_count": 37,
   "metadata": {},
   "outputs": [
    {
     "data": {
      "text/plain": [
       "'0으로 나눌 수 없습니다.'"
      ]
     },
     "execution_count": 37,
     "metadata": {},
     "output_type": "execute_result"
    }
   ],
   "source": [
    "# 3-2. 3 / 0\n",
    "div(3, 0)"
   ]
  },
  {
   "cell_type": "code",
   "execution_count": 39,
   "metadata": {},
   "outputs": [
    {
     "data": {
      "text/plain": [
       "15.0"
      ]
     },
     "execution_count": 39,
     "metadata": {},
     "output_type": "execute_result"
    }
   ],
   "source": [
    "# 3-3. 다음 결과값을 구하여라. (2+3)/10*30\n",
    "mul(div(add(2, 3), 10), 30)"
   ]
  },
  {
   "attachments": {},
   "cell_type": "markdown",
   "metadata": {},
   "source": [
    "## 7장"
   ]
  },
  {
   "cell_type": "code",
   "execution_count": 44,
   "metadata": {},
   "outputs": [],
   "source": [
    "data = pd.DataFrame(index=['남학생','여학생'], columns=['수리통계학','영문학개론','미시경제학'], data=[[120,35,145],[30,210,60]])"
   ]
  },
  {
   "cell_type": "code",
   "execution_count": 52,
   "metadata": {},
   "outputs": [
    {
     "data": {
      "text/plain": [
       "True"
      ]
     },
     "execution_count": 52,
     "metadata": {},
     "output_type": "execute_result"
    }
   ],
   "source": [
    "# 문제 1\n",
    "# 남학생과 여학생에 따른 과목의 선호도가 다르다고 할 수 있는지 유의수준 5%에서 검정하여 보자\n",
    "from scipy.stats import chi2_contingency\n",
    "\n",
    "res = chi2_contingency(data)\n",
    "res.pvalue < 0.05"
   ]
  },
  {
   "cell_type": "code",
   "execution_count": 51,
   "metadata": {},
   "outputs": [
    {
     "data": {
      "text/plain": [
       "True"
      ]
     },
     "execution_count": 51,
     "metadata": {},
     "output_type": "execute_result"
    }
   ],
   "source": [
    "# 문제 2. 영문학개론을 선호하는 정도와 성별간에 독립성이 있는지 검정하세요\n",
    "data2 = pd.DataFrame(index=['남학생','여학생'], columns=['선호','비선호'], data=[[35,265],[210,90]])\n",
    "\n",
    "res = chi2_contingency(data2)\n",
    "res.pvalue < 0.05"
   ]
  },
  {
   "cell_type": "code",
   "execution_count": null,
   "metadata": {},
   "outputs": [],
   "source": []
  }
 ],
 "metadata": {
  "kernelspec": {
   "display_name": "Python 3",
   "language": "python",
   "name": "python3"
  },
  "language_info": {
   "codemirror_mode": {
    "name": "ipython",
    "version": 3
   },
   "file_extension": ".py",
   "mimetype": "text/x-python",
   "name": "python",
   "nbconvert_exporter": "python",
   "pygments_lexer": "ipython3",
   "version": "3.8.16"
  },
  "orig_nbformat": 4
 },
 "nbformat": 4,
 "nbformat_minor": 2
}
