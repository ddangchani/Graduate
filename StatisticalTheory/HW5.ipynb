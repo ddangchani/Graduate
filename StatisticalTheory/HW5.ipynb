{
 "cells": [
  {
   "cell_type": "code",
   "execution_count": 2,
   "metadata": {},
   "outputs": [],
   "source": [
    "import numpy as np\n",
    "from scipy.stats import norm, chi2"
   ]
  },
  {
   "cell_type": "code",
   "execution_count": 4,
   "metadata": {},
   "outputs": [
    {
     "name": "stdout",
     "output_type": "stream",
     "text": [
      "n = 5, p = 0.1, chi_sq = 9.236356899781123, norm_appx = 0.8719614095087386\n",
      "n = 10, p = 0.1, chi_sq = 15.987179172105265, norm_appx = 0.8814866840258192\n",
      "n = 25, p = 0.1, chi_sq = 34.38158701755296, norm_appx = 0.8890116064819126\n",
      "n = 5, p = 0.01, chi_sq = 15.08627246938899, norm_appx = 0.9901147867532055\n",
      "n = 10, p = 0.01, chi_sq = 23.209251158954356, norm_appx = 0.99038331303399\n",
      "n = 25, p = 0.01, chi_sq = 44.31410489621915, norm_appx = 0.9904401232598283\n"
     ]
    }
   ],
   "source": [
    "ps = [0.1, 0.01]\n",
    "ns = [5, 10, 25]\n",
    "\n",
    "for p in ps:\n",
    "    for n in ns:\n",
    "        chi_sq = chi2.ppf(1 - p, n)\n",
    "        norm_appx = norm.cdf(np.sqrt(2*chi_sq) - np.sqrt(2*n))\n",
    "        print(f\"n = {n}, p = {p}, chi_sq = {chi_sq}, norm_appx = {norm_appx}\")"
   ]
  },
  {
   "cell_type": "code",
   "execution_count": null,
   "metadata": {},
   "outputs": [],
   "source": []
  }
 ],
 "metadata": {
  "kernelspec": {
   "display_name": "EDA",
   "language": "python",
   "name": "python3"
  },
  "language_info": {
   "codemirror_mode": {
    "name": "ipython",
    "version": 3
   },
   "file_extension": ".py",
   "mimetype": "text/x-python",
   "name": "python",
   "nbconvert_exporter": "python",
   "pygments_lexer": "ipython3",
   "version": "3.8.13"
  },
  "orig_nbformat": 4
 },
 "nbformat": 4,
 "nbformat_minor": 2
}
