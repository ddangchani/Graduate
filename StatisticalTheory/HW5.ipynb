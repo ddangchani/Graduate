{
 "cells": [
  {
   "cell_type": "code",
   "execution_count": 3,
   "metadata": {},
   "outputs": [],
   "source": [
    "import numpy as np\n",
    "from scipy.stats import norm, chi2"
   ]
  },
  {
   "cell_type": "code",
   "execution_count": 11,
   "metadata": {},
   "outputs": [
    {
     "name": "stdout",
     "output_type": "stream",
     "text": [
      "n = 5, p = 0.1, cent_appx = 0.9098,norm_appx = 0.872\n",
      "n = 10, p = 0.1, cent_appx = 0.9097,norm_appx = 0.8815\n",
      "n = 25, p = 0.1, cent_appx = 0.9077,norm_appx = 0.889\n",
      "n = 5, p = 0.01, cent_appx = 0.9993,norm_appx = 0.9901\n",
      "n = 10, p = 0.01, cent_appx = 0.9984,norm_appx = 0.9904\n",
      "n = 25, p = 0.01, cent_appx = 0.9968,norm_appx = 0.9904\n"
     ]
    }
   ],
   "source": [
    "ps = [0.1, 0.01]\n",
    "ns = [5, 10, 25]\n",
    "\n",
    "for p in ps:\n",
    "    for n in ns:\n",
    "        chi_sq = chi2.ppf(1 - p, n)\n",
    "        norm_appx = norm.cdf(np.sqrt(2*chi_sq) - np.sqrt(2*n))\n",
    "        cent_appx = norm.cdf((chi_sq - n) / np.sqrt(2*n))\n",
    "        print(f\"n = {n}, p = {p}, cent_appx = {cent_appx.round(4)},norm_appx = {norm_appx.round(4)}\")"
   ]
  },
  {
   "cell_type": "code",
   "execution_count": null,
   "metadata": {},
   "outputs": [],
   "source": []
  }
 ],
 "metadata": {
  "kernelspec": {
   "display_name": "EDA",
   "language": "python",
   "name": "python3"
  },
  "language_info": {
   "codemirror_mode": {
    "name": "ipython",
    "version": 3
   },
   "file_extension": ".py",
   "mimetype": "text/x-python",
   "name": "python",
   "nbconvert_exporter": "python",
   "pygments_lexer": "ipython3",
   "version": "3.8.16"
  },
  "orig_nbformat": 4
 },
 "nbformat": 4,
 "nbformat_minor": 2
}
